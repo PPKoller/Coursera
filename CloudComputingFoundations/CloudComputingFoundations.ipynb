{
  "nbformat": 4,
  "nbformat_minor": 0,
  "metadata": {
    "colab": {
      "provenance": []
    },
    "kernelspec": {
      "name": "python3",
      "display_name": "Python 3"
    },
    "language_info": {
      "name": "python"
    }
  },
  "cells": [
    {
      "cell_type": "markdown",
      "source": [
        "# Jupyter Notebook in Google Colab\n",
        "\n",
        "This is part of my Coursera course about **Cloud Computing Foundations**."
      ],
      "metadata": {
        "id": "I7SHdi6g3ig5"
      }
    },
    {
      "cell_type": "code",
      "execution_count": 3,
      "metadata": {
        "colab": {
          "base_uri": "https://localhost:8080/"
        },
        "id": "t6ddxIro3NwU",
        "outputId": "64b135fe-1001-45c1-be1b-27b2a59ca460"
      },
      "outputs": [
        {
          "output_type": "stream",
          "name": "stdout",
          "text": [
            "hello world\n"
          ]
        }
      ],
      "source": [
        "print(\"hello world\")"
      ]
    }
  ]
}